{
  "nbformat": 4,
  "nbformat_minor": 0,
  "metadata": {
    "colab": {
      "name": "Udemy clothing image.ipynb",
      "provenance": [],
      "collapsed_sections": []
    },
    "kernelspec": {
      "name": "python3",
      "display_name": "Python 3"
    }
  },
  "cells": [
    {
      "cell_type": "code",
      "metadata": {
        "id": "COyo9mhmd1QM"
      },
      "source": [
        "#tHE Clothing Fashion-MNIST is a dataset of images from Zalando (Europe's biggest online fashion retailer)\r\n",
        "# it consists of 60000 training samples and 10000 testing samples\r\n",
        "# Each sample is a 28*28 grayscale image associated with a label from 10 classes\r\n",
        "# http://yann.lecun.com/exdb/mnist/"
      ],
      "execution_count": 1,
      "outputs": []
    },
    {
      "cell_type": "markdown",
      "metadata": {
        "id": "xXb8SD-5qQQR"
      },
      "source": [
        "10 classes are:\r\n",
        "\r\n",
        "\r\n",
        "1.   T-shirt/top\r\n",
        "\r\n",
        "1.   Trouser\r\n",
        "\r\n",
        "1.   Pullover\r\n",
        "\r\n",
        "1.   Dress\r\n",
        "\r\n",
        "1.   Coat\r\n",
        "\r\n",
        "1.   Sandal\r\n",
        "2.   Shirt\r\n",
        "\r\n",
        "\r\n",
        "2.   Sneaker\r\n",
        "\r\n",
        "\r\n",
        "2.   bag\r\n",
        "\r\n",
        "\r\n",
        "2.   Ankle Boot\r\n",
        "\r\n",
        "\r\n",
        "\r\n"
      ]
    },
    {
      "cell_type": "code",
      "metadata": {
        "id": "UejR7_DZqrz-"
      },
      "source": [
        "import tensorflow as tf\r\n",
        "fashion_mnist = tf.keras.datasets.fashion_mnist\r\n"
      ],
      "execution_count": 2,
      "outputs": []
    },
    {
      "cell_type": "code",
      "metadata": {
        "id": "c5XY_U9Yq8Sx"
      },
      "source": [
        "(train_images, train_labels), (test_images, test_labels) = fashion_mnist.load_data()\r\n"
      ],
      "execution_count": 4,
      "outputs": []
    },
    {
      "cell_type": "code",
      "metadata": {
        "colab": {
          "base_uri": "https://localhost:8080/"
        },
        "id": "FpaBDi9NrPAN",
        "outputId": "a30f4727-a811-4fb3-c576-77b7bec1fa84"
      },
      "source": [
        "print(train_labels)\r\n"
      ],
      "execution_count": 5,
      "outputs": [
        {
          "output_type": "stream",
          "text": [
            "[9 0 0 ... 3 0 5]\n"
          ],
          "name": "stdout"
        }
      ]
    },
    {
      "cell_type": "code",
      "metadata": {
        "id": "YbEKRRfLrXUC"
      },
      "source": [
        "# define classname\r\n",
        "class_names = ['T-shirt/top', 'Trouser', 'Pullover', 'Dress', 'Coat',\r\n",
        "               'Sandal', 'Shirt', 'Sneaker', 'Bag', 'Ankle boot']"
      ],
      "execution_count": 6,
      "outputs": []
    },
    {
      "cell_type": "code",
      "metadata": {
        "colab": {
          "base_uri": "https://localhost:8080/"
        },
        "id": "faznyuvqrqC2",
        "outputId": "cc0716b4-f773-4dac-bdd3-c35d360e73cb"
      },
      "source": [
        "print(train_images.shape)\r\n"
      ],
      "execution_count": 7,
      "outputs": [
        {
          "output_type": "stream",
          "text": [
            "(60000, 28, 28)\n"
          ],
          "name": "stdout"
        }
      ]
    },
    {
      "cell_type": "code",
      "metadata": {
        "colab": {
          "base_uri": "https://localhost:8080/"
        },
        "id": "Fr85UyCGry72",
        "outputId": "43ffa1c0-34ed-4a7e-d5d2-49495636059f"
      },
      "source": [
        "print(test_images.shape)"
      ],
      "execution_count": 8,
      "outputs": [
        {
          "output_type": "stream",
          "text": [
            "(10000, 28, 28)\n"
          ],
          "name": "stdout"
        }
      ]
    },
    {
      "cell_type": "code",
      "metadata": {
        "colab": {
          "base_uri": "https://localhost:8080/",
          "height": 281
        },
        "id": "06FdO37ms468",
        "outputId": "53fc08ce-5c63-49e1-badd-d70d84e0dc8d"
      },
      "source": [
        "import matplotlib.pyplot as plt\r\n",
        "\r\n",
        "plt.figure()\r\n",
        "plt.imshow(train_images[42])\r\n",
        "plt.colorbar()\r\n",
        "plt.grid(False)\r\n",
        "plt.title(class_names[train_labels[42]])\r\n",
        "plt.show()"
      ],
      "execution_count": 9,
      "outputs": [
        {
          "output_type": "display_data",
          "data": {
            "image/png": "[encoded data removed]",
            "text/plain": [
              "<Figure size 432x288 with 2 Axes>"
            ]
          },
          "metadata": {
            "tags": [],
            "needs_background": "light"
          }
        }
      ]
    },
    {
      "cell_type": "code",
      "metadata": {
        "id": "8y2I_Pr2tVqn"
      },
      "source": [
        "import os\r\n",
        "os.environ['KMP_DUPLICATE_LIB_OK'] = 'True'\r\n",
        "train_images = train_images/255.0\r\n",
        "test_images = test_images/255.0"
      ],
      "execution_count": 10,
      "outputs": []
    },
    {
      "cell_type": "code",
      "metadata": {
        "colab": {
          "base_uri": "https://localhost:8080/",
          "height": 594
        },
        "id": "nK1LN_46teB4",
        "outputId": "f1a8478a-98d6-4566-9f5c-33a7b4b39048"
      },
      "source": [
        "plt.figure(figsize=(10, 10))\r\n",
        "for i in range(16):\r\n",
        "    plt.subplot(4, 4, i + 1)\r\n",
        "    plt.subplots_adjust(hspace=.3)\r\n",
        "    plt.xticks([])\r\n",
        "    plt.yticks([])\r\n",
        "    plt.grid(False)\r\n",
        "    plt.imshow(train_images[i], cmap=plt.cm.binary)\r\n",
        "    plt.title(class_names[train_labels[i]])\r\n",
        "plt.show()"
      ],
      "execution_count": 11,
      "outputs": [
        {
          "output_type": "display_data",
          "data": {
            "image/png": "[encoded data removed]",
            "text/plain": [
              "<Figure size 720x720 with 16 Axes>"
            ]
          },
          "metadata": {
            "tags": []
          }
        }
      ]
    },
    {
      "cell_type": "code",
      "metadata": {
        "id": "CJVw5en1zqJC"
      },
      "source": [
        "# Architecting CNN model\r\n",
        "# The CNN has two main components: The feature extractor composed of a set of convolutional and pooling layers and the classifier backend similar to a regular neural network"
      ],
      "execution_count": null,
      "outputs": []
    },
    {
      "cell_type": "code",
      "metadata": {
        "colab": {
          "base_uri": "https://localhost:8080/"
        },
        "id": "oualRfMv0DHZ",
        "outputId": "71622210-069b-47e1-9903-2cf7785bbba4"
      },
      "source": [
        "# we need to reshape the data into 4-dimensions\r\n",
        "X_train = train_images.reshape((train_images.shape[0], 28, 28, 1))\r\n",
        "X_test = test_images.reshape((test_images.shape[0], 28, 28, 1))\r\n",
        "print(X_train.shape)"
      ],
      "execution_count": 12,
      "outputs": [
        {
          "output_type": "stream",
          "text": [
            "(60000, 28, 28, 1)\n"
          ],
          "name": "stdout"
        }
      ]
    },
    {
      "cell_type": "markdown",
      "metadata": {
        "id": "G8CFYXd20ctJ"
      },
      "source": [
        "The first dimension is the number of samples\r\n",
        "\r\n",
        "\r\n",
        "---\r\n",
        "The fourth dimension is the appended one representing the grayscale images\r\n"
      ]
    },
    {
      "cell_type": "code",
      "metadata": {
        "id": "5Ac9ZQ2V0otu"
      },
      "source": [
        "# random seed in tensorflow for reproducility\r\n",
        "tf.random.set_seed(42)\r\n",
        "from tensorflow.keras import datasets, layers, models, losses\r\n",
        "model = models.Sequential()\r\n",
        "# add the first convolutional layers with 32 small-sized 3*3 filters\r\n",
        "model.add(layers.Conv2D(32, (3, 3), activation='relu', input_shape=(28, 28, 1)))"
      ],
      "execution_count": 13,
      "outputs": []
    },
    {
      "cell_type": "code",
      "metadata": {
        "id": "5vxXmTX11ctq"
      },
      "source": [
        "# Convolutional layer is followed by a max-pooling layer with a 2*2 filter\r\n",
        "model.add(layers.MaxPooling2D((2, 2)))"
      ],
      "execution_count": 14,
      "outputs": []
    },
    {
      "cell_type": "code",
      "metadata": {
        "id": "Kw4tOPyG11EG"
      },
      "source": [
        "# second convolutional layer with 64 3*3 filters\r\n",
        "model.add(layers.Conv2D(64, (3, 3), activation='relu'))\r\n",
        "model.add(layers.MaxPooling2D((2, 2)))"
      ],
      "execution_count": 15,
      "outputs": []
    },
    {
      "cell_type": "code",
      "metadata": {
        "id": "DzY5olnV2Jbg"
      },
      "source": [
        "# third convolutional layer with 128 3*3 filters\r\n",
        "model.add(layers.Conv2D(128, (3, 3), activation='relu'))\r\n",
        "#The resulting filter maps are flatten to provide features to the downstream classifier backend\r\n",
        "model.add(layers.Flatten())\r\n"
      ],
      "execution_count": 16,
      "outputs": []
    },
    {
      "cell_type": "code",
      "metadata": {
        "id": "CIjOg-iz2gxK"
      },
      "source": [
        "#Classifier backend \r\n",
        "model.add(layers.Dense(64, activation='relu'))\r\n"
      ],
      "execution_count": 17,
      "outputs": []
    },
    {
      "cell_type": "code",
      "metadata": {
        "id": "4wd7waHC2t8q"
      },
      "source": [
        "#output with 10 nodes demonstrating 10 classes\r\n",
        "model.add(layers.Dense(10, activation='softmax'))\r\n"
      ],
      "execution_count": 18,
      "outputs": []
    },
    {
      "cell_type": "code",
      "metadata": {
        "id": "_zprUwIn3DUZ"
      },
      "source": [
        "model.compile(optimizer='adam',\r\n",
        "              loss=losses.sparse_categorical_crossentropy,\r\n",
        "              metrics=['accuracy'])"
      ],
      "execution_count": 19,
      "outputs": []
    },
    {
      "cell_type": "code",
      "metadata": {
        "colab": {
          "base_uri": "https://localhost:8080/"
        },
        "id": "9Bp6BGlh3V50",
        "outputId": "1e0faf58-2ceb-4436-87a1-05a5356891b1"
      },
      "source": [
        "model.summary()"
      ],
      "execution_count": 20,
      "outputs": [
        {
          "output_type": "stream",
          "text": [
            "Model: \"sequential\"\n",
            "_________________________________________________________________\n",
            "Layer (type)                 Output Shape              Param #   \n",
            "=================================================================\n",
            "conv2d (Conv2D)              (None, 26, 26, 32)        320       \n",
            "_________________________________________________________________\n",
            "max_pooling2d (MaxPooling2D) (None, 13, 13, 32)        0         \n",
            "_________________________________________________________________\n",
            "conv2d_1 (Conv2D)            (None, 11, 11, 64)        18496     \n",
            "_________________________________________________________________\n",
            "max_pooling2d_1 (MaxPooling2 (None, 5, 5, 64)          0         \n",
            "_________________________________________________________________\n",
            "conv2d_2 (Conv2D)            (None, 3, 3, 128)         73856     \n",
            "_________________________________________________________________\n",
            "flatten (Flatten)            (None, 1152)              0         \n",
            "_________________________________________________________________\n",
            "dense (Dense)                (None, 64)                73792     \n",
            "_________________________________________________________________\n",
            "dense_1 (Dense)              (None, 10)                650       \n",
            "=================================================================\n",
            "Total params: 167,114\n",
            "Trainable params: 167,114\n",
            "Non-trainable params: 0\n",
            "_________________________________________________________________\n"
          ],
          "name": "stdout"
        }
      ]
    },
    {
      "cell_type": "markdown",
      "metadata": {
        "id": "sVHegc5g3tUW"
      },
      "source": [
        "The benefits of applying pooling are:\r\n",
        "\r\n",
        "\r\n",
        "1.   avoiding overfitting\r\n",
        "2.   Reducing training cost\r\n",
        "\r\n"
      ]
    },
    {
      "cell_type": "code",
      "metadata": {
        "colab": {
          "base_uri": "https://localhost:8080/"
        },
        "id": "B-dtBYOy4gK0",
        "outputId": "3a08972a-f683-444b-8fbb-5a1f53aebebf"
      },
      "source": [
        "model.fit(X_train, train_labels, validation_data=(X_test, test_labels), epochs=10) # batch size is 32 by default"
      ],
      "execution_count": 21,
      "outputs": [
        {
          "output_type": "stream",
          "text": [
            "Epoch 1/10\n",
            "1875/1875 [==============================] - 55s 29ms/step - loss: 0.6691 - accuracy: 0.7537 - val_loss: 0.3419 - val_accuracy: 0.8790\n",
            "Epoch 2/10\n",
            "1875/1875 [==============================] - 53s 28ms/step - loss: 0.3114 - accuracy: 0.8856 - val_loss: 0.3618 - val_accuracy: 0.8696\n",
            "Epoch 3/10\n",
            "1875/1875 [==============================] - 54s 29ms/step - loss: 0.2654 - accuracy: 0.9022 - val_loss: 0.2875 - val_accuracy: 0.8958\n",
            "Epoch 4/10\n",
            "1875/1875 [==============================] - 53s 28ms/step - loss: 0.2278 - accuracy: 0.9162 - val_loss: 0.2695 - val_accuracy: 0.9050\n",
            "Epoch 5/10\n",
            "1875/1875 [==============================] - 53s 28ms/step - loss: 0.2030 - accuracy: 0.9243 - val_loss: 0.2645 - val_accuracy: 0.9044\n",
            "Epoch 6/10\n",
            "1875/1875 [==============================] - 53s 29ms/step - loss: 0.1812 - accuracy: 0.9312 - val_loss: 0.2889 - val_accuracy: 0.8958\n",
            "Epoch 7/10\n",
            "1875/1875 [==============================] - 53s 28ms/step - loss: 0.1604 - accuracy: 0.9403 - val_loss: 0.2664 - val_accuracy: 0.9071\n",
            "Epoch 8/10\n",
            "1875/1875 [==============================] - 58s 31ms/step - loss: 0.1416 - accuracy: 0.9468 - val_loss: 0.2768 - val_accuracy: 0.9120\n",
            "Epoch 9/10\n",
            "1875/1875 [==============================] - 54s 29ms/step - loss: 0.1258 - accuracy: 0.9532 - val_loss: 0.2752 - val_accuracy: 0.9082\n",
            "Epoch 10/10\n",
            "1875/1875 [==============================] - 54s 29ms/step - loss: 0.1161 - accuracy: 0.9544 - val_loss: 0.2956 - val_accuracy: 0.9132\n"
          ],
          "name": "stdout"
        },
        {
          "output_type": "execute_result",
          "data": {
            "text/plain": [
              "<tensorflow.python.keras.callbacks.History at 0x7f7ae5896668>"
            ]
          },
          "metadata": {
            "tags": []
          },
          "execution_count": 21
        }
      ]
    },
    {
      "cell_type": "code",
      "metadata": {
        "colab": {
          "base_uri": "https://localhost:8080/"
        },
        "id": "gNKP-JI6LY8j",
        "outputId": "193eff50-9e4c-4687-c712-92b5c4ef3701"
      },
      "source": [
        "# 96% on training set and 91% on the testing set\r\n",
        "# double check the performance\r\n",
        "test_loss, test_acc = model.evaluate(X_test, test_labels, verbose=2)\r\n",
        "print('Accuracy on test set: ',test_acc)"
      ],
      "execution_count": 22,
      "outputs": [
        {
          "output_type": "stream",
          "text": [
            "313/313 - 2s - loss: 0.2956 - accuracy: 0.9132\n",
            "Accuracy on test set:  0.9132000207901001\n"
          ],
          "name": "stdout"
        }
      ]
    },
    {
      "cell_type": "code",
      "metadata": {
        "id": "HvkHxx6cLzSb"
      },
      "source": [
        "predictions = model.predict(X_test)"
      ],
      "execution_count": 23,
      "outputs": []
    },
    {
      "cell_type": "code",
      "metadata": {
        "colab": {
          "base_uri": "https://localhost:8080/"
        },
        "id": "q2zeSO_QL4l5",
        "outputId": "478957b7-30d6-403c-aa53-3252d3d0662f"
      },
      "source": [
        "print(predictions[0])"
      ],
      "execution_count": 24,
      "outputs": [
        {
          "output_type": "stream",
          "text": [
            "[7.0009092e-13 1.0523170e-08 1.5516394e-11 3.3706544e-11 1.2819192e-10\n",
            " 5.0729369e-08 8.2108447e-14 9.7706716e-06 8.4720467e-11 9.9999022e-01]\n"
          ],
          "name": "stdout"
        }
      ]
    },
    {
      "cell_type": "code",
      "metadata": {
        "colab": {
          "base_uri": "https://localhost:8080/"
        },
        "id": "i9ATqQQ8L_2P",
        "outputId": "975ad8bd-25cc-4ba7-acad-4f59985af1bd"
      },
      "source": [
        "import numpy as np\r\n",
        "\r\n",
        "print('Predicted label for the first test sample: ', np.argmax(predictions[0]))"
      ],
      "execution_count": 25,
      "outputs": [
        {
          "output_type": "stream",
          "text": [
            "Predicted label for the first test sample:  9\n"
          ],
          "name": "stdout"
        }
      ]
    },
    {
      "cell_type": "code",
      "metadata": {
        "colab": {
          "base_uri": "https://localhost:8080/"
        },
        "id": "WsSzlbd0MLuH",
        "outputId": "3fd18fb8-f6a8-499d-d5c1-3f4aa7d36b68"
      },
      "source": [
        "print('True label for the first test sample: ', test_labels[0])"
      ],
      "execution_count": 26,
      "outputs": [
        {
          "output_type": "stream",
          "text": [
            "True label for the first test sample:  9\n"
          ],
          "name": "stdout"
        }
      ]
    },
    {
      "cell_type": "code",
      "metadata": {
        "id": "3GEHaLDsMT1p"
      },
      "source": [
        "def plot_image_prediction(i, images, predictions, labels, class_names):\r\n",
        "    plt.subplot(1,2,1)\r\n",
        "    plt.imshow(images[i], cmap=plt.cm.binary)\r\n",
        "    prediction = np.argmax(predictions[i])\r\n",
        "    color = 'blue' if prediction == labels[i] else 'red'\r\n",
        "    plt.title(f\"{class_names[labels[i]]} (predicted {class_names[prediction]})\", color=color)\r\n",
        "    plt.subplot(1,2,2)\r\n",
        "    plt.grid(False)\r\n",
        "    plt.xticks(range(10))\r\n",
        "    plot = plt.bar(range(10), predictions[i], color=\"#777777\")\r\n",
        "    plt.ylim([0, 1])\r\n",
        "    plot[prediction].set_color('red')\r\n",
        "    plot[labels[i]].set_color('blue')\r\n",
        "    plt.show()"
      ],
      "execution_count": 27,
      "outputs": []
    },
    {
      "cell_type": "code",
      "metadata": {
        "colab": {
          "base_uri": "https://localhost:8080/",
          "height": 269
        },
        "id": "wAG8iv2WOZur",
        "outputId": "e6757d10-3fe0-4aa9-da05-227fdd6d0b78"
      },
      "source": [
        "plot_image_prediction(0, test_images, predictions, test_labels, class_names)"
      ],
      "execution_count": 28,
      "outputs": [
        {
          "output_type": "display_data",
          "data": {
            "image/png": "[encoded data removed]",
            "text/plain": [
              "<Figure size 432x288 with 2 Axes>"
            ]
          },
          "metadata": {
            "tags": [],
            "needs_background": "light"
          }
        }
      ]
    },
    {
      "cell_type": "code",
      "metadata": {
        "id": "JGijj5UIUepn"
      },
      "source": [
        "# \r\n",
        "filters, _ = model.layers[2].get_weights()\r\n",
        "f_min, f_max = filters.min(), filters.max()\r\n",
        "filters = (filters - f_min) / (f_max-f_min)"
      ],
      "execution_count": 29,
      "outputs": []
    },
    {
      "cell_type": "code",
      "metadata": {
        "colab": {
          "base_uri": "https://localhost:8080/",
          "height": 252
        },
        "id": "SkUCGtsOVEGH",
        "outputId": "9f15e5e8-aa7f-4f68-9297-3e9095d47ab3"
      },
      "source": [
        "n_filters = 16\r\n",
        "for i in range(n_filters):\r\n",
        "  filter = filters[:, :, :, i]\r\n",
        "  plt.subplot(4, 4, i+1)\r\n",
        "  plt.xticks([])\r\n",
        "  plt.yticks([])\r\n",
        "  plt.imshow(filter[:, :, 0], cmap='gray')\r\n",
        "\r\n",
        "plt.show()"
      ],
      "execution_count": 30,
      "outputs": [
        {
          "output_type": "display_data",
          "data": {
            "image/png": "[encoded data removed]",
            "text/plain": [
              "<Figure size 432x288 with 16 Axes>"
            ]
          },
          "metadata": {
            "tags": []
          }
        }
      ]
    },
    {
      "cell_type": "code",
      "metadata": {
        "colab": {
          "base_uri": "https://localhost:8080/"
        },
        "id": "jIVE9_AYuUDk",
        "outputId": "388c6256-ae84-4ec7-b9be-7b5c299e2496"
      },
      "source": [
        "from tensorflow.keras.preprocessing.image import ImageDataGenerator, load_img\r\n",
        "n_small = 500\r\n",
        "X_train = X_train[:n_small]\r\n",
        "train_labels = train_labels[:n_small]\r\n",
        "print(X_train.shape)"
      ],
      "execution_count": 32,
      "outputs": [
        {
          "output_type": "stream",
          "text": [
            "(500, 28, 28, 1)\n"
          ],
          "name": "stdout"
        }
      ]
    },
    {
      "cell_type": "code",
      "metadata": {
        "id": "YpvXhlJPutdp"
      },
      "source": [
        "model = models.Sequential()\r\n",
        "model.add(layers.Conv2D(32, (3, 3), activation='relu', input_shape=(28, 28, 1)))\r\n",
        "model.add(layers.MaxPooling2D((2, 2)))\r\n",
        "model.add(layers.Conv2D(64, (3, 3), activation='relu'))\r\n",
        "model.add(layers.Flatten())\r\n",
        "model.add(layers.Dense(32, activation='relu'))\r\n",
        "model.add(layers.Dense(10, activation='softmax'))"
      ],
      "execution_count": 33,
      "outputs": []
    },
    {
      "cell_type": "code",
      "metadata": {
        "id": "_nMVrGUYu0qv"
      },
      "source": [
        "model.compile(optimizer='adam',\r\n",
        "               loss=losses.sparse_categorical_crossentropy,\r\n",
        "               metrics=['accuracy'])"
      ],
      "execution_count": 34,
      "outputs": []
    },
    {
      "cell_type": "code",
      "metadata": {
        "colab": {
          "base_uri": "https://localhost:8080/"
        },
        "id": "tGeDhMtfu4Xa",
        "outputId": "b7f359dc-b28b-436d-a7b9-0a4641cba9bf"
      },
      "source": [
        "model.fit(X_train, train_labels, validation_data=(X_test, test_labels), epochs=20, batch_size=40)"
      ],
      "execution_count": 35,
      "outputs": [
        {
          "output_type": "stream",
          "text": [
            "Epoch 1/20\n",
            "13/13 [==============================] - 3s 230ms/step - loss: 2.1556 - accuracy: 0.2655 - val_loss: 1.5974 - val_accuracy: 0.3579\n",
            "Epoch 2/20\n",
            "13/13 [==============================] - 3s 220ms/step - loss: 1.4406 - accuracy: 0.4469 - val_loss: 1.2414 - val_accuracy: 0.5318\n",
            "Epoch 3/20\n",
            "13/13 [==============================] - 3s 220ms/step - loss: 1.0029 - accuracy: 0.6473 - val_loss: 0.9527 - val_accuracy: 0.6803\n",
            "Epoch 4/20\n",
            "13/13 [==============================] - 3s 217ms/step - loss: 0.7664 - accuracy: 0.7643 - val_loss: 0.7879 - val_accuracy: 0.7271\n",
            "Epoch 5/20\n",
            "13/13 [==============================] - 3s 219ms/step - loss: 0.6871 - accuracy: 0.7879 - val_loss: 0.7541 - val_accuracy: 0.7276\n",
            "Epoch 6/20\n",
            "13/13 [==============================] - 3s 224ms/step - loss: 0.5359 - accuracy: 0.8048 - val_loss: 0.8521 - val_accuracy: 0.7102\n",
            "Epoch 7/20\n",
            "13/13 [==============================] - 3s 225ms/step - loss: 0.5083 - accuracy: 0.8176 - val_loss: 0.7001 - val_accuracy: 0.7568\n",
            "Epoch 8/20\n",
            "13/13 [==============================] - 3s 224ms/step - loss: 0.4198 - accuracy: 0.8480 - val_loss: 0.6923 - val_accuracy: 0.7585\n",
            "Epoch 9/20\n",
            "13/13 [==============================] - 3s 220ms/step - loss: 0.3668 - accuracy: 0.8707 - val_loss: 0.6252 - val_accuracy: 0.7770\n",
            "Epoch 10/20\n",
            "13/13 [==============================] - 3s 224ms/step - loss: 0.2949 - accuracy: 0.9161 - val_loss: 0.6490 - val_accuracy: 0.7786\n",
            "Epoch 11/20\n",
            "13/13 [==============================] - 3s 220ms/step - loss: 0.2793 - accuracy: 0.9101 - val_loss: 0.7996 - val_accuracy: 0.7624\n",
            "Epoch 12/20\n",
            "13/13 [==============================] - 3s 221ms/step - loss: 0.2896 - accuracy: 0.9103 - val_loss: 0.6494 - val_accuracy: 0.7844\n",
            "Epoch 13/20\n",
            "13/13 [==============================] - 3s 230ms/step - loss: 0.2428 - accuracy: 0.9260 - val_loss: 0.7446 - val_accuracy: 0.7630\n",
            "Epoch 14/20\n",
            "13/13 [==============================] - 3s 232ms/step - loss: 0.2238 - accuracy: 0.9255 - val_loss: 0.6896 - val_accuracy: 0.7809\n",
            "Epoch 15/20\n",
            "13/13 [==============================] - 3s 242ms/step - loss: 0.1998 - accuracy: 0.9256 - val_loss: 0.6811 - val_accuracy: 0.7812\n",
            "Epoch 16/20\n",
            "13/13 [==============================] - 3s 225ms/step - loss: 0.1569 - accuracy: 0.9547 - val_loss: 0.6713 - val_accuracy: 0.7885\n",
            "Epoch 17/20\n",
            "13/13 [==============================] - 3s 228ms/step - loss: 0.1280 - accuracy: 0.9642 - val_loss: 0.6733 - val_accuracy: 0.7936\n",
            "Epoch 18/20\n",
            "13/13 [==============================] - 3s 220ms/step - loss: 0.1337 - accuracy: 0.9636 - val_loss: 0.7345 - val_accuracy: 0.7868\n",
            "Epoch 19/20\n",
            "13/13 [==============================] - 3s 217ms/step - loss: 0.1304 - accuracy: 0.9592 - val_loss: 0.7256 - val_accuracy: 0.7878\n",
            "Epoch 20/20\n",
            "13/13 [==============================] - 3s 220ms/step - loss: 0.0966 - accuracy: 0.9802 - val_loss: 0.7518 - val_accuracy: 0.7951\n"
          ],
          "name": "stdout"
        },
        {
          "output_type": "execute_result",
          "data": {
            "text/plain": [
              "<tensorflow.python.keras.callbacks.History at 0x7f7ae1ee9630>"
            ]
          },
          "metadata": {
            "tags": []
          },
          "execution_count": 35
        }
      ]
    },
    {
      "cell_type": "code",
      "metadata": {
        "colab": {
          "base_uri": "https://localhost:8080/"
        },
        "id": "u5Qv0RTsvSoV",
        "outputId": "2c9b650e-57b3-4a17-f33f-7073cb90129a"
      },
      "source": [
        "test_loss, test_acc = model.evaluate(X_test, test_labels, verbose=2)\r\n",
        "print('Accuracy on test set:', test_acc)"
      ],
      "execution_count": 36,
      "outputs": [
        {
          "output_type": "stream",
          "text": [
            "313/313 - 3s - loss: 0.7518 - accuracy: 0.7951\n",
            "Accuracy on test set: 0.7950999736785889\n"
          ],
          "name": "stdout"
        }
      ]
    },
    {
      "cell_type": "markdown",
      "metadata": {
        "id": "UJ0ip6ZLwoK6"
      },
      "source": [
        "The accuracy  without augmentation has a classification accuracy of 79.5%"
      ]
    },
    {
      "cell_type": "code",
      "metadata": {
        "id": "OcnLIuRivYHo"
      },
      "source": [
        "datagen = ImageDataGenerator(height_shift_range=3,\r\n",
        "                              horizontal_flip=True\r\n",
        "                              )"
      ],
      "execution_count": 37,
      "outputs": []
    },
    {
      "cell_type": "code",
      "metadata": {
        "id": "J4Gt1oz9vdtR"
      },
      "source": [
        "model_aug = tf.keras.models.clone_model(model)"
      ],
      "execution_count": 38,
      "outputs": []
    },
    {
      "cell_type": "code",
      "metadata": {
        "id": "mwDNbR42vhA7"
      },
      "source": [
        "model_aug.compile(optimizer='adam',\r\n",
        "               loss=losses.sparse_categorical_crossentropy,\r\n",
        "               metrics=['accuracy'])"
      ],
      "execution_count": 39,
      "outputs": []
    },
    {
      "cell_type": "code",
      "metadata": {
        "colab": {
          "base_uri": "https://localhost:8080/"
        },
        "id": "okCHTowovmOV",
        "outputId": "d50c57df-0824-490c-b540-262987401a95"
      },
      "source": [
        "train_generator = datagen.flow(X_train, train_labels, seed=42, batch_size=40)\r\n",
        "model_aug.fit(train_generator, epochs=50, validation_data=(X_test, test_labels))"
      ],
      "execution_count": 40,
      "outputs": [
        {
          "output_type": "stream",
          "text": [
            "Epoch 1/50\n",
            "13/13 [==============================] - 3s 251ms/step - loss: 2.1620 - accuracy: 0.2409 - val_loss: 1.6978 - val_accuracy: 0.3521\n",
            "Epoch 2/50\n",
            "13/13 [==============================] - 3s 234ms/step - loss: 1.5609 - accuracy: 0.4116 - val_loss: 1.1748 - val_accuracy: 0.5150\n",
            "Epoch 3/50\n",
            "13/13 [==============================] - 3s 235ms/step - loss: 1.0000 - accuracy: 0.6363 - val_loss: 0.8608 - val_accuracy: 0.6998\n",
            "Epoch 4/50\n",
            "13/13 [==============================] - 3s 234ms/step - loss: 0.8666 - accuracy: 0.7043 - val_loss: 0.9253 - val_accuracy: 0.6922\n",
            "Epoch 5/50\n",
            "13/13 [==============================] - 3s 232ms/step - loss: 0.8293 - accuracy: 0.7071 - val_loss: 0.7793 - val_accuracy: 0.7280\n",
            "Epoch 6/50\n",
            "13/13 [==============================] - 3s 234ms/step - loss: 0.6889 - accuracy: 0.7655 - val_loss: 0.7532 - val_accuracy: 0.7452\n",
            "Epoch 7/50\n",
            "13/13 [==============================] - 3s 234ms/step - loss: 0.6145 - accuracy: 0.7718 - val_loss: 0.7003 - val_accuracy: 0.7476\n",
            "Epoch 8/50\n",
            "13/13 [==============================] - 3s 233ms/step - loss: 0.6366 - accuracy: 0.7849 - val_loss: 0.7816 - val_accuracy: 0.7150\n",
            "Epoch 9/50\n",
            "13/13 [==============================] - 3s 235ms/step - loss: 0.6878 - accuracy: 0.7780 - val_loss: 0.6947 - val_accuracy: 0.7384\n",
            "Epoch 10/50\n",
            "13/13 [==============================] - 3s 239ms/step - loss: 0.4977 - accuracy: 0.8156 - val_loss: 0.6941 - val_accuracy: 0.7431\n",
            "Epoch 11/50\n",
            "13/13 [==============================] - 3s 240ms/step - loss: 0.5427 - accuracy: 0.8125 - val_loss: 0.7363 - val_accuracy: 0.7392\n",
            "Epoch 12/50\n",
            "13/13 [==============================] - 3s 241ms/step - loss: 0.5899 - accuracy: 0.7914 - val_loss: 0.6870 - val_accuracy: 0.7531\n",
            "Epoch 13/50\n",
            "13/13 [==============================] - 3s 237ms/step - loss: 0.4519 - accuracy: 0.8382 - val_loss: 0.6536 - val_accuracy: 0.7697\n",
            "Epoch 14/50\n",
            "13/13 [==============================] - 3s 237ms/step - loss: 0.4723 - accuracy: 0.8546 - val_loss: 0.6625 - val_accuracy: 0.7569\n",
            "Epoch 15/50\n",
            "13/13 [==============================] - 3s 234ms/step - loss: 0.4111 - accuracy: 0.8554 - val_loss: 0.6421 - val_accuracy: 0.7755\n",
            "Epoch 16/50\n",
            "13/13 [==============================] - 3s 232ms/step - loss: 0.4352 - accuracy: 0.8677 - val_loss: 0.6256 - val_accuracy: 0.7775\n",
            "Epoch 17/50\n",
            "13/13 [==============================] - 3s 234ms/step - loss: 0.3995 - accuracy: 0.8532 - val_loss: 0.6400 - val_accuracy: 0.7680\n",
            "Epoch 18/50\n",
            "13/13 [==============================] - 3s 234ms/step - loss: 0.3568 - accuracy: 0.8766 - val_loss: 0.6132 - val_accuracy: 0.7878\n",
            "Epoch 19/50\n",
            "13/13 [==============================] - 3s 234ms/step - loss: 0.4414 - accuracy: 0.8266 - val_loss: 0.6317 - val_accuracy: 0.7797\n",
            "Epoch 20/50\n",
            "13/13 [==============================] - 3s 234ms/step - loss: 0.3879 - accuracy: 0.8566 - val_loss: 0.6140 - val_accuracy: 0.7811\n",
            "Epoch 21/50\n",
            "13/13 [==============================] - 3s 251ms/step - loss: 0.3727 - accuracy: 0.8862 - val_loss: 0.6076 - val_accuracy: 0.7930\n",
            "Epoch 22/50\n",
            "13/13 [==============================] - 3s 237ms/step - loss: 0.3255 - accuracy: 0.9008 - val_loss: 0.6533 - val_accuracy: 0.7762\n",
            "Epoch 23/50\n",
            "13/13 [==============================] - 3s 231ms/step - loss: 0.3299 - accuracy: 0.8833 - val_loss: 0.6138 - val_accuracy: 0.7950\n",
            "Epoch 24/50\n",
            "13/13 [==============================] - 3s 232ms/step - loss: 0.3038 - accuracy: 0.8997 - val_loss: 0.6347 - val_accuracy: 0.7802\n",
            "Epoch 25/50\n",
            "13/13 [==============================] - 3s 240ms/step - loss: 0.2711 - accuracy: 0.9041 - val_loss: 0.6522 - val_accuracy: 0.7862\n",
            "Epoch 26/50\n",
            "13/13 [==============================] - 3s 236ms/step - loss: 0.2290 - accuracy: 0.9324 - val_loss: 0.6187 - val_accuracy: 0.8016\n",
            "Epoch 27/50\n",
            "13/13 [==============================] - 3s 237ms/step - loss: 0.2518 - accuracy: 0.9141 - val_loss: 0.6830 - val_accuracy: 0.7850\n",
            "Epoch 28/50\n",
            "13/13 [==============================] - 3s 242ms/step - loss: 0.2425 - accuracy: 0.9284 - val_loss: 0.6525 - val_accuracy: 0.7991\n",
            "Epoch 29/50\n",
            "13/13 [==============================] - 3s 239ms/step - loss: 0.2281 - accuracy: 0.9208 - val_loss: 0.6388 - val_accuracy: 0.7928\n",
            "Epoch 30/50\n",
            "13/13 [==============================] - 3s 248ms/step - loss: 0.2380 - accuracy: 0.9211 - val_loss: 0.7206 - val_accuracy: 0.7753\n",
            "Epoch 31/50\n",
            "13/13 [==============================] - 3s 239ms/step - loss: 0.2630 - accuracy: 0.9105 - val_loss: 0.6695 - val_accuracy: 0.7820\n",
            "Epoch 32/50\n",
            "13/13 [==============================] - 3s 234ms/step - loss: 0.2658 - accuracy: 0.8997 - val_loss: 0.6621 - val_accuracy: 0.7913\n",
            "Epoch 33/50\n",
            "13/13 [==============================] - 3s 236ms/step - loss: 0.1898 - accuracy: 0.9379 - val_loss: 0.6859 - val_accuracy: 0.8004\n",
            "Epoch 34/50\n",
            "13/13 [==============================] - 3s 254ms/step - loss: 0.1792 - accuracy: 0.9351 - val_loss: 0.6661 - val_accuracy: 0.8079\n",
            "Epoch 35/50\n",
            "13/13 [==============================] - 3s 230ms/step - loss: 0.2083 - accuracy: 0.9162 - val_loss: 0.6729 - val_accuracy: 0.7998\n",
            "Epoch 36/50\n",
            "13/13 [==============================] - 3s 238ms/step - loss: 0.2298 - accuracy: 0.9240 - val_loss: 0.6878 - val_accuracy: 0.7885\n",
            "Epoch 37/50\n",
            "13/13 [==============================] - 3s 231ms/step - loss: 0.1967 - accuracy: 0.9436 - val_loss: 0.7230 - val_accuracy: 0.8002\n",
            "Epoch 38/50\n",
            "13/13 [==============================] - 3s 233ms/step - loss: 0.1963 - accuracy: 0.9342 - val_loss: 0.7082 - val_accuracy: 0.7933\n",
            "Epoch 39/50\n",
            "13/13 [==============================] - 3s 241ms/step - loss: 0.1950 - accuracy: 0.9206 - val_loss: 0.6375 - val_accuracy: 0.8076\n",
            "Epoch 40/50\n",
            "13/13 [==============================] - 3s 239ms/step - loss: 0.1895 - accuracy: 0.9443 - val_loss: 0.7454 - val_accuracy: 0.7940\n",
            "Epoch 41/50\n",
            "13/13 [==============================] - 3s 239ms/step - loss: 0.1512 - accuracy: 0.9482 - val_loss: 0.7434 - val_accuracy: 0.7991\n",
            "Epoch 42/50\n",
            "13/13 [==============================] - 3s 239ms/step - loss: 0.1224 - accuracy: 0.9610 - val_loss: 0.7512 - val_accuracy: 0.7993\n",
            "Epoch 43/50\n",
            "13/13 [==============================] - 3s 232ms/step - loss: 0.1382 - accuracy: 0.9630 - val_loss: 0.7916 - val_accuracy: 0.7913\n",
            "Epoch 44/50\n",
            "13/13 [==============================] - 3s 242ms/step - loss: 0.1395 - accuracy: 0.9527 - val_loss: 0.7161 - val_accuracy: 0.8103\n",
            "Epoch 45/50\n",
            "13/13 [==============================] - 3s 234ms/step - loss: 0.1302 - accuracy: 0.9547 - val_loss: 0.6971 - val_accuracy: 0.8105\n",
            "Epoch 46/50\n",
            "13/13 [==============================] - 3s 241ms/step - loss: 0.1298 - accuracy: 0.9600 - val_loss: 0.7481 - val_accuracy: 0.7980\n",
            "Epoch 47/50\n",
            "13/13 [==============================] - 3s 233ms/step - loss: 0.1375 - accuracy: 0.9633 - val_loss: 0.7577 - val_accuracy: 0.8049\n",
            "Epoch 48/50\n",
            "13/13 [==============================] - 3s 234ms/step - loss: 0.1258 - accuracy: 0.9667 - val_loss: 0.7460 - val_accuracy: 0.8092\n",
            "Epoch 49/50\n",
            "13/13 [==============================] - 3s 233ms/step - loss: 0.1081 - accuracy: 0.9642 - val_loss: 0.7784 - val_accuracy: 0.8080\n",
            "Epoch 50/50\n",
            "13/13 [==============================] - 3s 240ms/step - loss: 0.0991 - accuracy: 0.9678 - val_loss: 0.7529 - val_accuracy: 0.8062\n"
          ],
          "name": "stdout"
        },
        {
          "output_type": "execute_result",
          "data": {
            "text/plain": [
              "<tensorflow.python.keras.callbacks.History at 0x7f7ae4e279b0>"
            ]
          },
          "metadata": {
            "tags": []
          },
          "execution_count": 40
        }
      ]
    },
    {
      "cell_type": "code",
      "metadata": {
        "colab": {
          "base_uri": "https://localhost:8080/"
        },
        "id": "pIt7_ykEw8yp",
        "outputId": "c31dc030-7ec1-422e-8e83-7d122c761f96"
      },
      "source": [
        "test_loss, test_acc = model_aug.evaluate(X_test, test_labels, verbose=2)\r\n",
        "print('Accuracy on test set: ',test_acc)"
      ],
      "execution_count": 41,
      "outputs": [
        {
          "output_type": "stream",
          "text": [
            "313/313 - 2s - loss: 0.7529 - accuracy: 0.8062\n",
            "Accuracy on test set:  0.8062000274658203\n"
          ],
          "name": "stdout"
        }
      ]
    }
  ]
}