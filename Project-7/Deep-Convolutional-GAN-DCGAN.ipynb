{
  "nbformat": 4,
  "nbformat_minor": 0,
  "metadata": {
    "colab": {
      "name": "Deep Convolutional GAN( DCGAN).ipynb",
      "provenance": [],
      "collapsed_sections": []
    },
    "kernelspec": {
      "name": "python3",
      "display_name": "Python 3"
    }
  },
  "cells": [
    {
      "cell_type": "code",
      "metadata": {
        "id": "9Q2p-4o8n2kS"
      },
      "source": [
        "from tensorflow.keras.models import Model"
      ],
      "execution_count": 1,
      "outputs": []
    },
    {
      "cell_type": "code",
      "metadata": {
        "id": "-pVYmdPspH1X"
      },
      "source": [
        "from tensorflow.keras.layers import Dense, Activation, Input, Conv2DTranspose, Flatten\r\n",
        "from tensorflow.keras.layers import BatchNormalization, Dropout, Reshape, Conv2D\r\n",
        "from tensorflow.keras.optimizers import Adam\r\n",
        "from tensorflow.keras.datasets import mnist\r\n",
        "import numpy as np\r\n",
        "import matplotlib.pyplot as plt\r\n"
      ],
      "execution_count": 2,
      "outputs": []
    },
    {
      "cell_type": "code",
      "metadata": {
        "id": "b-tM4EKvpm2_",
        "colab": {
          "base_uri": "https://localhost:8080/"
        },
        "outputId": "e480eff7-8ee3-46a5-c79d-4ee32e788867"
      },
      "source": [
        "img_dims = 28\r\n",
        "img_chn1 = 1\r\n",
        "ltnt_dim=100\r\n",
        "(x_train,y_train), (x_test, y_test) = mnist.load_data()\r\n",
        "x_train = x_train.astype('float32')/255\r\n",
        "x_test = x_test.astype('float32')/255\r\n",
        "x_train = np.expand_dims(x_train,axis=3)\r\n",
        "x_test = np.expand_dims(x_test,axis=3)"
      ],
      "execution_count": 3,
      "outputs": [
        {
          "output_type": "stream",
          "text": [
            "Downloading data from https://storage.googleapis.com/tensorflow/tf-keras-datasets/mnist.npz\n",
            "11493376/11490434 [==============================] - 0s 0us/step\n"
          ],
          "name": "stdout"
        }
      ]
    },
    {
      "cell_type": "code",
      "metadata": {
        "id": "mP0C-6FJqLpu",
        "colab": {
          "base_uri": "https://localhost:8080/"
        },
        "outputId": "79790d20-795b-4186-dabc-2502a47f655b"
      },
      "source": [
        "# we will build the generator convolutional neural network\r\n",
        "inpt_noise = Input(shape=(ltnt_dim))\r\n",
        "g11 = Dense(7*7*256, activation='relu')(inpt_noise)\r\n",
        "g12 = BatchNormalization()(g11)\r\n",
        "g13 = Reshape((7,7,256))(g12)\r\n",
        "g14= Conv2DTranspose(128, (5,5), strides=(1,1),padding='same', activation='relu')(g13)\r\n",
        "g15 = BatchNormalization()(g14)\r\n",
        "g16= Conv2DTranspose(64, (5,5), strides=(2,2),padding='same', activation='relu')(g15)\r\n",
        "g17 = BatchNormalization()(g16)\r\n",
        "g18= Conv2DTranspose(1, (5,5), strides=(2,2),padding='same', activation='sigmoid')(g17)\r\n",
        "generator = Model(inpt_noise, g18)\r\n",
        "gnrtr_img = generator(inpt_noise)\r\n",
        "generator.summary()"
      ],
      "execution_count": 4,
      "outputs": [
        {
          "output_type": "stream",
          "text": [
            "Model: \"model\"\n",
            "_________________________________________________________________\n",
            "Layer (type)                 Output Shape              Param #   \n",
            "=================================================================\n",
            "input_1 (InputLayer)         [(None, 100)]             0         \n",
            "_________________________________________________________________\n",
            "dense (Dense)                (None, 12544)             1266944   \n",
            "_________________________________________________________________\n",
            "batch_normalization (BatchNo (None, 12544)             50176     \n",
            "_________________________________________________________________\n",
            "reshape (Reshape)            (None, 7, 7, 256)         0         \n",
            "_________________________________________________________________\n",
            "conv2d_transpose (Conv2DTran (None, 7, 7, 128)         819328    \n",
            "_________________________________________________________________\n",
            "batch_normalization_1 (Batch (None, 7, 7, 128)         512       \n",
            "_________________________________________________________________\n",
            "conv2d_transpose_1 (Conv2DTr (None, 14, 14, 64)        204864    \n",
            "_________________________________________________________________\n",
            "batch_normalization_2 (Batch (None, 14, 14, 64)        256       \n",
            "_________________________________________________________________\n",
            "conv2d_transpose_2 (Conv2DTr (None, 28, 28, 1)         1601      \n",
            "=================================================================\n",
            "Total params: 2,343,681\n",
            "Trainable params: 2,318,209\n",
            "Non-trainable params: 25,472\n",
            "_________________________________________________________________\n"
          ],
          "name": "stdout"
        }
      ]
    },
    {
      "cell_type": "code",
      "metadata": {
        "id": "D69T-LhnA62d",
        "colab": {
          "base_uri": "https://localhost:8080/"
        },
        "outputId": "896135d9-e506-45c9-c1f8-6da1db71ceb3"
      },
      "source": [
        "#build the critic convolutional network\r\n",
        "inpt_img = Input(shape=(img_dims,img_dims, img_chn1 ))\r\n",
        "d11 = Conv2D(64,(5,5), strides=(2,2), padding='same', activation='relu')(inpt_img)\r\n",
        "d12= Dropout(0.3)(d11)\r\n",
        "\r\n",
        "d13 = Conv2D(128,(5,5), strides=(2,2), padding='same', activation='relu')(d12)\r\n",
        "d14= Dropout(0.3)(d13)\r\n",
        "\r\n",
        "d15 = Flatten()(d14)\r\n",
        "d16= Dense(1,activation='sigmoid')(d15)\r\n",
        "critic = Model(inpt_img, d16)\r\n",
        "validity = critic(gnrtr_img)\r\n",
        "critic.summary()"
      ],
      "execution_count": 5,
      "outputs": [
        {
          "output_type": "stream",
          "text": [
            "Model: \"model_1\"\n",
            "_________________________________________________________________\n",
            "Layer (type)                 Output Shape              Param #   \n",
            "=================================================================\n",
            "input_2 (InputLayer)         [(None, 28, 28, 1)]       0         \n",
            "_________________________________________________________________\n",
            "conv2d (Conv2D)              (None, 14, 14, 64)        1664      \n",
            "_________________________________________________________________\n",
            "dropout (Dropout)            (None, 14, 14, 64)        0         \n",
            "_________________________________________________________________\n",
            "conv2d_1 (Conv2D)            (None, 7, 7, 128)         204928    \n",
            "_________________________________________________________________\n",
            "dropout_1 (Dropout)          (None, 7, 7, 128)         0         \n",
            "_________________________________________________________________\n",
            "flatten (Flatten)            (None, 6272)              0         \n",
            "_________________________________________________________________\n",
            "dense_1 (Dense)              (None, 1)                 6273      \n",
            "=================================================================\n",
            "Total params: 212,865\n",
            "Trainable params: 212,865\n",
            "Non-trainable params: 0\n",
            "_________________________________________________________________\n"
          ],
          "name": "stdout"
        }
      ]
    },
    {
      "cell_type": "code",
      "metadata": {
        "id": "yRQpyasmXGbK"
      },
      "source": [
        "optimizer = Adam(0.0002, 0.5)\r\n",
        "\r\n",
        "critic.compile(loss='binary_crossentropy', optimizer=optimizer, \r\n",
        "               metrics=['accuracy'])\r\n",
        "\r\n",
        "critic.trainable = False\r\n",
        "\r\n",
        "gen_crt = Model(inpt_noise, validity)\r\n",
        "gen_crt.compile(loss='binary_crossentropy', optimizer=optimizer)\r\n",
        "\r\n",
        "epochs = 12001\r\n",
        "batch_size=64\r\n",
        "sample_interval=400"
      ],
      "execution_count": 6,
      "outputs": []
    },
    {
      "cell_type": "code",
      "metadata": {
        "colab": {
          "base_uri": "https://localhost:8080/"
        },
        "id": "Y_0kbJ-mUwOm",
        "outputId": "fb0f6465-7cbf-443b-ef4e-234685bf0a9e"
      },
      "source": [
        "valid = np.ones((batch_size, 1))\r\n",
        "fake = np.zeros((batch_size, 1))\r\n",
        "\r\n",
        "samp_imgs = {}\r\n",
        "closs = []\r\n",
        "gloss = []\r\n",
        "cacc = []\r\n",
        "for epoch in range(epochs):\r\n",
        "  idx = np.random.randint(0, x_train.shape[0], batch_size)\r\n",
        "  imgs = x_train[idx]\r\n",
        "\r\n",
        "  noise = np.random.uniform(0, 1, (batch_size, ltnt_dim))\r\n",
        "  gen_imgs = generator.predict(noise)\r\n",
        "  c_loss_real = critic.train_on_batch(imgs, valid)\r\n",
        "  c_loss_fake = critic.train_on_batch(gen_imgs, fake)\r\n",
        "  c_loss = 0.5 * np.add(c_loss_real, c_loss_fake)\r\n",
        "\r\n",
        "  noise = np.random.uniform(0, 1, (batch_size, ltnt_dim))\r\n",
        "  g_loss = gen_crt.train_on_batch(noise, valid)\r\n",
        "  \r\n",
        "  closs.append(c_loss[0])\r\n",
        "  cacc.append(c_loss[1])\r\n",
        "  gloss.append(g_loss)\r\n",
        "\r\n",
        "  if epoch % sample_interval == 0:\r\n",
        "    print (\"%d [C loss: %f, acc.: %.2f%%] [G loss: %f]\" % \r\n",
        "           (epoch, c_loss[0], 100*c_loss[1], g_loss))\r\n",
        "  \r\n",
        "    noise = np.random.uniform(0, 1, (2, ltnt_dim))\r\n",
        "    gen_imgs = generator.predict(noise)\r\n",
        "    samp_imgs[epoch] = gen_imgs "
      ],
      "execution_count": 7,
      "outputs": [
        {
          "output_type": "stream",
          "text": [
            "0 [C loss: 0.718357, acc.: 27.34%] [G loss: 0.674142]\n",
            "400 [C loss: 0.000455, acc.: 100.00%] [G loss: 0.000001]\n",
            "800 [C loss: 0.580314, acc.: 75.78%] [G loss: 0.614260]\n",
            "1200 [C loss: 0.740536, acc.: 48.44%] [G loss: 0.715818]\n",
            "1600 [C loss: 0.623306, acc.: 67.19%] [G loss: 0.788273]\n",
            "2000 [C loss: 0.603862, acc.: 68.75%] [G loss: 0.883642]\n",
            "2400 [C loss: 0.669960, acc.: 58.59%] [G loss: 0.815385]\n",
            "2800 [C loss: 0.645606, acc.: 65.62%] [G loss: 0.766521]\n",
            "3200 [C loss: 0.668438, acc.: 58.59%] [G loss: 0.717097]\n",
            "3600 [C loss: 0.668860, acc.: 61.72%] [G loss: 0.793938]\n",
            "4000 [C loss: 0.673047, acc.: 56.25%] [G loss: 0.711676]\n",
            "4400 [C loss: 0.684317, acc.: 60.94%] [G loss: 0.765676]\n",
            "4800 [C loss: 0.701708, acc.: 53.91%] [G loss: 0.731884]\n",
            "5200 [C loss: 0.675815, acc.: 58.59%] [G loss: 0.734667]\n",
            "5600 [C loss: 0.674352, acc.: 55.47%] [G loss: 0.721281]\n",
            "6000 [C loss: 0.673194, acc.: 58.59%] [G loss: 0.764554]\n",
            "6400 [C loss: 0.668189, acc.: 63.28%] [G loss: 0.732073]\n",
            "6800 [C loss: 0.683689, acc.: 53.12%] [G loss: 0.725463]\n",
            "7200 [C loss: 0.673681, acc.: 57.03%] [G loss: 0.729339]\n",
            "7600 [C loss: 0.677681, acc.: 53.91%] [G loss: 0.745047]\n",
            "8000 [C loss: 0.677627, acc.: 61.72%] [G loss: 0.754864]\n",
            "8400 [C loss: 0.674307, acc.: 53.91%] [G loss: 0.753096]\n",
            "8800 [C loss: 0.649120, acc.: 68.75%] [G loss: 0.774136]\n",
            "9200 [C loss: 0.672093, acc.: 60.16%] [G loss: 0.753738]\n",
            "9600 [C loss: 0.656256, acc.: 65.62%] [G loss: 0.753039]\n",
            "10000 [C loss: 0.668480, acc.: 56.25%] [G loss: 0.764202]\n",
            "10400 [C loss: 0.650283, acc.: 64.84%] [G loss: 0.757747]\n",
            "10800 [C loss: 0.650079, acc.: 67.19%] [G loss: 0.775519]\n",
            "11200 [C loss: 0.655425, acc.: 70.31%] [G loss: 0.765786]\n",
            "11600 [C loss: 0.679815, acc.: 57.81%] [G loss: 0.782101]\n",
            "12000 [C loss: 0.650366, acc.: 64.84%] [G loss: 0.771260]\n"
          ],
          "name": "stdout"
        }
      ]
    },
    {
      "cell_type": "code",
      "metadata": {
        "colab": {
          "base_uri": "https://localhost:8080/",
          "height": 441
        },
        "id": "cVhXo0NFtHgM",
        "outputId": "83e8ad22-a8dc-4f5a-e087-be349c4690f1"
      },
      "source": [
        "import matplotlib.pyplot as plt\r\n",
        "fig, ax1 = plt.subplots(figsize = (10,6))\r\n",
        "ax1.set_xlabel('Epoch')\r\n",
        "ax1.set_ylabel('Loss')\r\n",
        "ax1.plot(range(epochs), gloss, '-.', color='#dc267f', alpha = 0.75, label='Generator')\r\n",
        "ax1.plot(range(epochs), closs, '-.', color='#fe6100', alpha = 0.75, label='Critic')\r\n",
        "ax1.legend(loc=1)\r\n",
        "ax2 = ax1.twinx()\r\n",
        "\r\n",
        "ax2.set_ylabel('Critic Accuracy')\r\n",
        "ax2.plot(range(epochs), cacc, color='#785ef0', alpha = 0.75, label='Accuracy')\r\n",
        "ax2.legend(loc=4)\r\n",
        "\r\n",
        "fig.tight_layout()\r\n",
        "plt.show()"
      ],
      "execution_count": 8,
      "outputs": [
        {
          "output_type": "display_data",
          "data": {
            "image/png": "[encoded data removed]",
            "text/plain": [
              "<Figure size 720x432 with 2 Axes>"
            ]
          },
          "metadata": {
            "tags": [],
            "needs_background": "light"
          }
        }
      ]
    }
  ]
}